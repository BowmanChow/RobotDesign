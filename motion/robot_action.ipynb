{
 "cells": [
  {
   "cell_type": "code",
   "execution_count": null,
   "metadata": {},
   "outputs": [],
   "source": [
    "import serial\n",
    "from PIL import Image as PIL_Image"
   ]
  },
  {
   "cell_type": "code",
   "execution_count": null,
   "metadata": {},
   "outputs": [],
   "source": [
    "orig_img_path = '/home/xilinx/jupyter_notebooks/common/data/webcam.jpg'\n",
    "#!fswebcam  --no-banner --save {orig_img_path} -d /dev/video0 2> /dev/null\n",
    "!fswebcam  --no-banner --save {orig_img_path} -d /dev/video0\n",
    "img = PIL_Image.open(orig_img_path)\n",
    "img"
   ]
  },
  {
   "cell_type": "code",
   "execution_count": null,
   "metadata": {},
   "outputs": [],
   "source": [
    "#print(img.getpixel((0,0)))\n",
    "pixel = img.getpixel((0,0))\n",
    "print(pixel[0])"
   ]
  },
  {
   "cell_type": "code",
   "execution_count": null,
   "metadata": {},
   "outputs": [],
   "source": [
    "def run_action(action_data):\n",
    "    ser = serial.Serial(\"/dev/ttyPS0\", 9600, timeout=5)\n",
    "    cnt_err = 0\n",
    "    while 1:\n",
    "        test_read = ser.read()\n",
    "        #test_read = ser.readline()\n",
    "        #test_read = ser.read_all()\n",
    "        #test_read = ser.read_until()\n",
    "        print('test_read', test_read)\n",
    "        cnt_err += 1\n",
    "        if test_read== b'\\xa3' or cnt_err == 50:\n",
    "            break\n",
    "    \n",
    "    if cnt_err == 50:\n",
    "        print('can not get REQ')\n",
    "    else:\n",
    "        print('read REQ finished!')\n",
    "        ser.write(action_data)\n",
    "        print('send action ok!')\n",
    "    ser.close()"
   ]
  },
  {
   "cell_type": "code",
   "execution_count": null,
   "metadata": {},
   "outputs": [],
   "source": [
    "XiaDun = [0xff, 0xff, 0x00, 0x0b, 0x01, 0x07, 0x03, 0x58, 0x69, 0x61, 0x44, 0x75, 0x6e, 0x7f, 0x88] #XiaDun\n",
    "Stand = [0xff, 0xff, 0x00, 0x0a, 0x01, 0x06, 0x03, 0x53, 0x74, 0x61, 0x6e, 0x64, 0x98, 0x4f] #Stand\n",
    "if pixel[0] > 122:\n",
    "    run_action(Stand)\n",
    "else:\n",
    "    run_action(XiaDun)"
   ]
  }
 ],
 "metadata": {
  "kernelspec": {
   "display_name": "Python 3",
   "language": "python",
   "name": "python3"
  },
  "language_info": {
   "codemirror_mode": {
    "name": "ipython",
    "version": 3
   },
   "file_extension": ".py",
   "mimetype": "text/x-python",
   "name": "python",
   "nbconvert_exporter": "python",
   "pygments_lexer": "ipython3",
   "version": "3.7.6"
  }
 },
 "nbformat": 4,
 "nbformat_minor": 4
}
