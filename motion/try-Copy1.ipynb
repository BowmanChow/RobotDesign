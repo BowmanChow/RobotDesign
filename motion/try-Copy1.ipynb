{
 "cells": [
  {
   "cell_type": "code",
   "execution_count": 5,
   "metadata": {},
   "outputs": [],
   "source": [
    "import binascii\n",
    "import serial\n",
    "import os\n",
    "import cv2\n",
    "from  matplotlib import pyplot as plt\n",
    "\n",
    "def run_action(cmd):\n",
    "    ser = serial.Serial(\"/dev/ttyPS0\", 9600, timeout=5)\n",
    "    cnt_err = 0\n",
    "    while 1:\n",
    "        test_read = ser.read()\n",
    "        # print('test_read', test_read)\n",
    "        cnt_err += 1\n",
    "        if test_read== b'\\xa3' or cnt_err == 50:\n",
    "            break\n",
    "    \n",
    "    if cnt_err == 50:\n",
    "        print('can not get REQ')\n",
    "    else:\n",
    "        print('read REQ finished!')\n",
    "        ser.write(cmd2data(cmd))\n",
    "        print('send action ok!')\n",
    "    ser.close()\n",
    "    \n",
    "def crc_calculate(package):\n",
    "    crc = 0\n",
    "    for hex_data in package:\n",
    "\n",
    "        b2 = hex_data.to_bytes(1, byteorder='little')\n",
    "        crc = binascii.crc_hqx(b2, crc)\n",
    "\n",
    "    return [(crc >> 8), (crc & 255)]    # 校验位两位\n",
    "\n",
    "def cmd2data(cmd):\n",
    "    cnt=0\n",
    "    cmd_list=[]\n",
    "    for i in cmd:\n",
    "        cnt+=1\n",
    "        cmd_list+=[ord(i)]\n",
    "    cmd_list=[0xff,0xff]+[(cnt+5)>>8,(cnt+5)&255]+[0x01,(cnt+1)&255,0x03]+cmd_list\n",
    "    cmd_list=cmd_list+crc_calculate(cmd_list)\n",
    "    return cmd_list\n",
    "\n",
    "def wait_req():\n",
    "    ser = serial.Serial(\"/dev/ttyPS0\", 9600, timeout=5)\n",
    "    while 1:\n",
    "        test_read=ser.read()\n",
    "        if test_read== b'\\xa3' :\n",
    "            print('read REQ finished!') \n",
    "            break\n",
    "def getpos():\n",
    "    os.system('fswebcam  --no-banner --save temp.jpg -d /dev/video0 2> /dev/null')\n",
    "    image = cv2.imread('temp.jpg')\n",
    "    gray = cv2.cvtColor(image, cv2.COLOR_BGR2GRAY)\n",
    "    ret,thres = cv2.threshold(gray, 60, 255, 0)\n",
    "    edges = cv2.Canny(thres, 50, 150)\n",
    "    minLineLength = 130\n",
    "    maxLineGap = 20\n",
    "    lines = cv2.HoughLinesP(edges, rho=1, theta=3.1415926/180, threshold=40, minLineLength=minLineLength, maxLineGap=maxLineGap)\n",
    "    for line in lines:\n",
    "        print(line)\n",
    "        for x1, y1, x2, y2 in line:\n",
    "            k = (y2 - y1) / (x2 - x1)\n",
    "            if k > 4:\n",
    "                continue\n",
    "            print(k)\n",
    "            cv2.line(image, (x1, y1), (x2, y2), (255, 0, 0), 2)\n",
    "    # plt.imshow(thres)\n",
    "#     plt.imshow(image)\n",
    "#     plt.show()\n",
    "    return k\n",
    "b_thres = 10\n",
    "s_thres = 0.05"
   ]
  },
  {
   "cell_type": "code",
   "execution_count": 6,
   "metadata": {},
   "outputs": [
    {
     "data": {
      "text/plain": [
       "0"
      ]
     },
     "execution_count": 6,
     "metadata": {},
     "output_type": "execute_result"
    }
   ],
   "source": [
    "os.system('sh ./stop_sys_ttyPS0.sh')"
   ]
  },
  {
   "cell_type": "code",
   "execution_count": 7,
   "metadata": {},
   "outputs": [
    {
     "name": "stdout",
     "output_type": "stream",
     "text": [
      "[[144 438 293 478]]\n",
      "0.268456375839\n",
      "[[148 426 292 470]]\n",
      "0.305555555556\n",
      "[[136 443 292 479]]\n",
      "0.230769230769\n",
      "[[111 469 278 461]]\n",
      "-0.0479041916168\n",
      "[[115 468 262 450]]\n",
      "-0.122448979592\n",
      "[[115 473 290 461]]\n",
      "-0.0685714285714\n",
      "[[142 434 292 471]]\n",
      "0.246666666667\n",
      "[[142 433 274 463]]\n",
      "0.227272727273\n"
     ]
    },
    {
     "ename": "NameError",
     "evalue": "name 'b' is not defined",
     "output_type": "error",
     "traceback": [
      "\u001b[0;31m---------------------------------------------------------------------------\u001b[0m",
      "\u001b[0;31mNameError\u001b[0m                                 Traceback (most recent call last)",
      "\u001b[0;32m<ipython-input-7-015d8e5d7aa2>\u001b[0m in \u001b[0;36m<module>\u001b[0;34m()\u001b[0m\n\u001b[1;32m      7\u001b[0m     \u001b[0mflag2\u001b[0m \u001b[0;34m=\u001b[0m \u001b[0;32mFalse\u001b[0m\u001b[0;34m\u001b[0m\u001b[0m\n\u001b[1;32m      8\u001b[0m \u001b[0;34m\u001b[0m\u001b[0m\n\u001b[0;32m----> 9\u001b[0;31m     \u001b[0;32mif\u001b[0m \u001b[0mb\u001b[0m \u001b[0;34m<\u001b[0m \u001b[0;34m-\u001b[0m\u001b[0mb_thres\u001b[0m\u001b[0;34m:\u001b[0m\u001b[0;34m\u001b[0m\u001b[0m\n\u001b[0m\u001b[1;32m     10\u001b[0m         \u001b[0mwait_req\u001b[0m\u001b[0;34m(\u001b[0m\u001b[0;34m)\u001b[0m\u001b[0;34m\u001b[0m\u001b[0m\n\u001b[1;32m     11\u001b[0m         \u001b[0mrun_action\u001b[0m\u001b[0;34m(\u001b[0m\u001b[0;34m'turn003L'\u001b[0m\u001b[0;34m)\u001b[0m\u001b[0;34m\u001b[0m\u001b[0m\n",
      "\u001b[0;31mNameError\u001b[0m: name 'b' is not defined"
     ]
    }
   ],
   "source": [
    "flag1 = False\n",
    "flag2 = False\n",
    "\n",
    "while not (flag1 and flag2):\n",
    "    s = getpos()\n",
    "    flag1 = False\n",
    "    flag2 = False\n",
    "    \n",
    "    if b < -b_thres:\n",
    "        wait_req()\n",
    "        run_action('turn003L')\n",
    "    elif b > b_thres:\n",
    "        wait_req()\n",
    "        run_action('turn003R')\n",
    "    else:\n",
    "        flag1 = True\n",
    "        \n",
    "    if s < s_thres:\n",
    "        wait_req()\n",
    "        run_action('Left02move')\n",
    "    elif s > -s_thres:\n",
    "        wait_req()\n",
    "        run_action('Right02move')\n",
    "    else:\n",
    "        flag2 = True"
   ]
  },
  {
   "cell_type": "code",
   "execution_count": 25,
   "metadata": {},
   "outputs": [
    {
     "name": "stdout",
     "output_type": "stream",
     "text": [
      "read REQ finished!\n",
      "read REQ finished!\n",
      "send action ok!\n"
     ]
    }
   ],
   "source": [
    "wait_req()\n",
    "run_action('headleft')\n",
    "#头左"
   ]
  },
  {
   "cell_type": "code",
   "execution_count": 26,
   "metadata": {},
   "outputs": [
    {
     "name": "stdout",
     "output_type": "stream",
     "text": [
      "read REQ finished!\n",
      "read REQ finished!\n",
      "send action ok!\n"
     ]
    }
   ],
   "source": [
    "wait_req()\n",
    "run_action('headright')\n",
    "#头右"
   ]
  },
  {
   "cell_type": "code",
   "execution_count": 27,
   "metadata": {},
   "outputs": [
    {
     "name": "stdout",
     "output_type": "stream",
     "text": [
      "read REQ finished!\n",
      "read REQ finished!\n",
      "send action ok!\n"
     ]
    }
   ],
   "source": [
    "wait_req()\n",
    "run_action('Stand')\n",
    "#站立"
   ]
  },
  {
   "cell_type": "code",
   "execution_count": 11,
   "metadata": {},
   "outputs": [
    {
     "name": "stdout",
     "output_type": "stream",
     "text": [
      "read REQ finished!\n",
      "read REQ finished!\n",
      "send action ok!\n"
     ]
    }
   ],
   "source": [
    "wait_req()\n",
    "run_action('slow03')\n",
    "#慢走一格"
   ]
  },
  {
   "cell_type": "code",
   "execution_count": 24,
   "metadata": {},
   "outputs": [
    {
     "name": "stdout",
     "output_type": "stream",
     "text": [
      "read REQ finished!\n",
      "read REQ finished!\n",
      "send action ok!\n",
      "read REQ finished!\n",
      "read REQ finished!\n",
      "send action ok!\n"
     ]
    }
   ],
   "source": [
    "wait_req()\n",
    "run_action('slowForward01')\n",
    "wait_req()\n",
    "run_action('Forwalk02')\n",
    "#慢走一格"
   ]
  },
  {
   "cell_type": "code",
   "execution_count": 10,
   "metadata": {},
   "outputs": [
    {
     "name": "stdout",
     "output_type": "stream",
     "text": [
      "read REQ finished!\n",
      "read REQ finished!\n",
      "send action ok!\n"
     ]
    }
   ],
   "source": [
    "wait_req()\n",
    "run_action('UpBridge01')\n",
    "#上台阶"
   ]
  },
  {
   "cell_type": "code",
   "execution_count": 18,
   "metadata": {},
   "outputs": [
    {
     "name": "stdout",
     "output_type": "stream",
     "text": [
      "read REQ finished!\n",
      "read REQ finished!\n",
      "send action ok!\n"
     ]
    }
   ],
   "source": [
    "wait_req()\n",
    "run_action('slowBackward01')\n",
    "#慢退一步"
   ]
  },
  {
   "cell_type": "code",
   "execution_count": 6,
   "metadata": {},
   "outputs": [],
   "source": [
    "def f1L(): #左转\n",
    "    run_action('turn005L')\n",
    "    wait_req()\n",
    "    run_action('turn005L')\n",
    "    wait_req()\n",
    "    run_action('turn005L')\n",
    "    wait_req()\n",
    "    run_action('Stand')"
   ]
  },
  {
   "cell_type": "code",
   "execution_count": 23,
   "metadata": {},
   "outputs": [],
   "source": [
    "def f1R():#右转\n",
    "    run_action('turn005R')\n",
    "    wait_req()\n",
    "    run_action('turn005R')\n",
    "    wait_req()\n",
    "    run_action('turn005R')\n",
    "    wait_req()\n",
    "    run_action('Stand')"
   ]
  },
  {
   "cell_type": "code",
   "execution_count": 7,
   "metadata": {},
   "outputs": [
    {
     "name": "stdout",
     "output_type": "stream",
     "text": [
      "read REQ finished!\n",
      "send action ok!\n",
      "read REQ finished!\n",
      "read REQ finished!\n",
      "send action ok!\n",
      "read REQ finished!\n",
      "read REQ finished!\n",
      "send action ok!\n",
      "read REQ finished!\n",
      "read REQ finished!\n",
      "send action ok!\n"
     ]
    }
   ],
   "source": [
    "f1L()"
   ]
  },
  {
   "cell_type": "code",
   "execution_count": 28,
   "metadata": {},
   "outputs": [
    {
     "ename": "KeyboardInterrupt",
     "evalue": "",
     "output_type": "error",
     "traceback": [
      "\u001b[0;31m---------------------------------------------------------------------------\u001b[0m",
      "\u001b[0;31mKeyboardInterrupt\u001b[0m                         Traceback (most recent call last)",
      "\u001b[0;32m<ipython-input-28-c0e99de1960b>\u001b[0m in \u001b[0;36m<module>\u001b[0;34m()\u001b[0m\n\u001b[0;32m----> 1\u001b[0;31m \u001b[0mwait_req\u001b[0m\u001b[0;34m(\u001b[0m\u001b[0;34m)\u001b[0m\u001b[0;34m\u001b[0m\u001b[0m\n\u001b[0m\u001b[1;32m      2\u001b[0m \u001b[0mrun_action\u001b[0m\u001b[0;34m(\u001b[0m\u001b[0;34m'Stand'\u001b[0m\u001b[0;34m)\u001b[0m\u001b[0;34m\u001b[0m\u001b[0m\n",
      "\u001b[0;32m<ipython-input-4-80f27b169038>\u001b[0m in \u001b[0;36mwait_req\u001b[0;34m()\u001b[0m\n\u001b[1;32m     45\u001b[0m     \u001b[0mser\u001b[0m \u001b[0;34m=\u001b[0m \u001b[0mserial\u001b[0m\u001b[0;34m.\u001b[0m\u001b[0mSerial\u001b[0m\u001b[0;34m(\u001b[0m\u001b[0;34m\"/dev/ttyPS0\"\u001b[0m\u001b[0;34m,\u001b[0m \u001b[0;36m9600\u001b[0m\u001b[0;34m,\u001b[0m \u001b[0mtimeout\u001b[0m\u001b[0;34m=\u001b[0m\u001b[0;36m5\u001b[0m\u001b[0;34m)\u001b[0m\u001b[0;34m\u001b[0m\u001b[0m\n\u001b[1;32m     46\u001b[0m     \u001b[0;32mwhile\u001b[0m \u001b[0;36m1\u001b[0m\u001b[0;34m:\u001b[0m\u001b[0;34m\u001b[0m\u001b[0m\n\u001b[0;32m---> 47\u001b[0;31m         \u001b[0mtest_read\u001b[0m\u001b[0;34m=\u001b[0m\u001b[0mser\u001b[0m\u001b[0;34m.\u001b[0m\u001b[0mread\u001b[0m\u001b[0;34m(\u001b[0m\u001b[0;34m)\u001b[0m\u001b[0;34m\u001b[0m\u001b[0m\n\u001b[0m\u001b[1;32m     48\u001b[0m         \u001b[0;32mif\u001b[0m \u001b[0mtest_read\u001b[0m\u001b[0;34m==\u001b[0m \u001b[0;34mb'\\xa3'\u001b[0m \u001b[0;34m:\u001b[0m\u001b[0;34m\u001b[0m\u001b[0m\n\u001b[1;32m     49\u001b[0m             \u001b[0mprint\u001b[0m\u001b[0;34m(\u001b[0m\u001b[0;34m'read REQ finished!'\u001b[0m\u001b[0;34m)\u001b[0m\u001b[0;34m\u001b[0m\u001b[0m\n",
      "\u001b[0;32m/usr/local/lib/python3.6/dist-packages/serial/serialposix.py\u001b[0m in \u001b[0;36mread\u001b[0;34m(self, size)\u001b[0m\n\u001b[1;32m    481\u001b[0m         \u001b[0;32mwhile\u001b[0m \u001b[0mlen\u001b[0m\u001b[0;34m(\u001b[0m\u001b[0mread\u001b[0m\u001b[0;34m)\u001b[0m \u001b[0;34m<\u001b[0m \u001b[0msize\u001b[0m\u001b[0;34m:\u001b[0m\u001b[0;34m\u001b[0m\u001b[0m\n\u001b[1;32m    482\u001b[0m             \u001b[0;32mtry\u001b[0m\u001b[0;34m:\u001b[0m\u001b[0;34m\u001b[0m\u001b[0m\n\u001b[0;32m--> 483\u001b[0;31m                 \u001b[0mready\u001b[0m\u001b[0;34m,\u001b[0m \u001b[0m_\u001b[0m\u001b[0;34m,\u001b[0m \u001b[0m_\u001b[0m \u001b[0;34m=\u001b[0m \u001b[0mselect\u001b[0m\u001b[0;34m.\u001b[0m\u001b[0mselect\u001b[0m\u001b[0;34m(\u001b[0m\u001b[0;34m[\u001b[0m\u001b[0mself\u001b[0m\u001b[0;34m.\u001b[0m\u001b[0mfd\u001b[0m\u001b[0;34m,\u001b[0m \u001b[0mself\u001b[0m\u001b[0;34m.\u001b[0m\u001b[0mpipe_abort_read_r\u001b[0m\u001b[0;34m]\u001b[0m\u001b[0;34m,\u001b[0m \u001b[0;34m[\u001b[0m\u001b[0;34m]\u001b[0m\u001b[0;34m,\u001b[0m \u001b[0;34m[\u001b[0m\u001b[0;34m]\u001b[0m\u001b[0;34m,\u001b[0m \u001b[0mtimeout\u001b[0m\u001b[0;34m.\u001b[0m\u001b[0mtime_left\u001b[0m\u001b[0;34m(\u001b[0m\u001b[0;34m)\u001b[0m\u001b[0;34m)\u001b[0m\u001b[0;34m\u001b[0m\u001b[0m\n\u001b[0m\u001b[1;32m    484\u001b[0m                 \u001b[0;32mif\u001b[0m \u001b[0mself\u001b[0m\u001b[0;34m.\u001b[0m\u001b[0mpipe_abort_read_r\u001b[0m \u001b[0;32min\u001b[0m \u001b[0mready\u001b[0m\u001b[0;34m:\u001b[0m\u001b[0;34m\u001b[0m\u001b[0m\n\u001b[1;32m    485\u001b[0m                     \u001b[0mos\u001b[0m\u001b[0;34m.\u001b[0m\u001b[0mread\u001b[0m\u001b[0;34m(\u001b[0m\u001b[0mself\u001b[0m\u001b[0;34m.\u001b[0m\u001b[0mpipe_abort_read_r\u001b[0m\u001b[0;34m,\u001b[0m \u001b[0;36m1000\u001b[0m\u001b[0;34m)\u001b[0m\u001b[0;34m\u001b[0m\u001b[0m\n",
      "\u001b[0;31mKeyboardInterrupt\u001b[0m: "
     ]
    }
   ],
   "source": [
    "wait_req()\n",
    "run_action('Stand')"
   ]
  },
  {
   "cell_type": "code",
   "execution_count": null,
   "metadata": {},
   "outputs": [],
   "source": []
  }
 ],
 "metadata": {
  "kernelspec": {
   "display_name": "Python 3",
   "language": "python",
   "name": "python3"
  },
  "language_info": {
   "codemirror_mode": {
    "name": "ipython",
    "version": 3
   },
   "file_extension": ".py",
   "mimetype": "text/x-python",
   "name": "python",
   "nbconvert_exporter": "python",
   "pygments_lexer": "ipython3",
   "version": "3.6.5"
  }
 },
 "nbformat": 4,
 "nbformat_minor": 4
}
