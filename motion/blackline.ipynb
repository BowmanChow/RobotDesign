{
 "cells": [
  {
   "cell_type": "code",
   "execution_count": 1,
   "metadata": {},
   "outputs": [],
   "source": [
    "import binascii\n",
    "import serial\n",
    "import os\n",
    "import cv2\n",
    "from  matplotlib import pyplot as plt"
   ]
  },
  {
   "cell_type": "code",
   "execution_count": 2,
   "metadata": {},
   "outputs": [],
   "source": [
    "def run_action(cmd):\n",
    "    ser = serial.Serial(\"/dev/ttyPS0\", 9600, timeout=5)\n",
    "    cnt_err = 0\n",
    "    while 1:\n",
    "        test_read = ser.read()\n",
    "        # print('test_read', test_read)\n",
    "        cnt_err += 1\n",
    "        if test_read== b'\\xa3' or cnt_err == 50:\n",
    "            break\n",
    "    \n",
    "    if cnt_err == 50:\n",
    "        print('can not get REQ')\n",
    "    else:\n",
    "        print('read REQ finished!')\n",
    "        ser.write(cmd2data(cmd))\n",
    "        print('send action ok!')\n",
    "    ser.close()\n",
    "    \n",
    "def crc_calculate(package):\n",
    "    crc = 0\n",
    "    for hex_data in package:\n",
    "\n",
    "        b2 = hex_data.to_bytes(1, byteorder='little')\n",
    "        crc = binascii.crc_hqx(b2, crc)\n",
    "\n",
    "    return [(crc >> 8), (crc & 255)]    # 校验位两位\n",
    "\n",
    "def cmd2data(cmd):\n",
    "    cnt=0\n",
    "    cmd_list=[]\n",
    "    for i in cmd:\n",
    "        \n",
    "        cnt+=1\n",
    "        cmd_list+=[ord(i)]\n",
    "    cmd_list=[0xff,0xff]+[(cnt+5)>>8,(cnt+5)&255]+[0x01,(cnt+1)&255,0x03]+cmd_list\n",
    "    cmd_list=cmd_list+crc_calculate(cmd_list)\n",
    "    return cmd_list\n",
    "\n",
    "def wait_req():\n",
    "    ser = serial.Serial(\"/dev/ttyPS0\", 9600, timeout=5)\n",
    "    while 1:\n",
    "        test_read=ser.read()\n",
    "        if test_read== b'\\xa3' :\n",
    "            print('read REQ finished!') \n",
    "            break"
   ]
  },
  {
   "cell_type": "code",
   "execution_count": 3,
   "metadata": {},
   "outputs": [],
   "source": [
    "def getpos():\n",
    "    os.system('fswebcam  --no-banner --save temp.jpg -d /dev/video0 2> /dev/null')\n",
    "    image = cv2.imread('temp.jpg')\n",
    "    gray = cv2.cvtColor(image, cv2.COLOR_BGR2GRAY)\n",
    "    ret,thres = cv2.threshold(gray, 60, 255, 0)\n",
    "    edges = cv2.Canny(thres, 50, 150)\n",
    "    minLineLength = 130\n",
    "    maxLineGap = 20\n",
    "    lines = cv2.HoughLinesP(edges, rho=1, theta=3.1415926/180, threshold=40, minLineLength=minLineLength, maxLineGap=maxLineGap)\n",
    "    for line in lines:\n",
    "        print(line)\n",
    "        for x1, y1, x2, y2 in line:\n",
    "            k = (y2 - y1) / (x2 - x1)\n",
    "            if k > 2:\n",
    "                continue\n",
    "            b = y1 - k * x1\n",
    "            print(k, b)\n",
    "            cv2.line(image, (x1, y1), (x2, y2), (255, 0, 0), 2)\n",
    "    # plt.imshow(thres)\n",
    "#     plt.imshow(image)\n",
    "#     plt.show()\n",
    "    return (b, k)\n",
    "b_thres = 10\n",
    "s_thres = 0.05"
   ]
  },
  {
   "cell_type": "code",
   "execution_count": 4,
   "metadata": {},
   "outputs": [
    {
     "data": {
      "text/plain": [
       "32512"
      ]
     },
     "execution_count": 4,
     "metadata": {},
     "output_type": "execute_result"
    }
   ],
   "source": [
    "os.system('sh ./stop_sys_ttyPS0.sh')"
   ]
  },
  {
   "cell_type": "code",
   "execution_count": 5,
   "metadata": {},
   "outputs": [
    {
     "name": "stdout",
     "output_type": "stream",
     "text": [
      "(480, 640, 3)\n",
      "4 0.5279503105590062\n",
      "read REQ finished!\n"
     ]
    },
    {
     "ename": "SerialException",
     "evalue": "device reports readiness to read but returned no data (device disconnected or multiple access on port?)",
     "output_type": "error",
     "traceback": [
      "\u001b[0;31m---------------------------------------------------------------------------\u001b[0m",
      "\u001b[0;31mSerialException\u001b[0m                           Traceback (most recent call last)",
      "\u001b[0;32m<ipython-input-5-fb0b604f59f2>\u001b[0m in \u001b[0;36m<module>\u001b[0;34m()\u001b[0m\n\u001b[1;32m     21\u001b[0m     \u001b[0;32melif\u001b[0m \u001b[0ms\u001b[0m \u001b[0;34m>\u001b[0m \u001b[0ms_thres\u001b[0m\u001b[0;34m:\u001b[0m\u001b[0;34m\u001b[0m\u001b[0m\n\u001b[1;32m     22\u001b[0m         \u001b[0mwait_req\u001b[0m\u001b[0;34m(\u001b[0m\u001b[0;34m)\u001b[0m\u001b[0;34m\u001b[0m\u001b[0m\n\u001b[0;32m---> 23\u001b[0;31m         \u001b[0mrun_action\u001b[0m\u001b[0;34m(\u001b[0m\u001b[0;34m'Right02move'\u001b[0m\u001b[0;34m)\u001b[0m\u001b[0;34m\u001b[0m\u001b[0m\n\u001b[0m\u001b[1;32m     24\u001b[0m     \u001b[0;32melse\u001b[0m\u001b[0;34m:\u001b[0m\u001b[0;34m\u001b[0m\u001b[0m\n\u001b[1;32m     25\u001b[0m         \u001b[0mflag2\u001b[0m \u001b[0;34m=\u001b[0m \u001b[0;32mTrue\u001b[0m\u001b[0;34m\u001b[0m\u001b[0m\n",
      "\u001b[0;32m<ipython-input-2-853a2d0d7655>\u001b[0m in \u001b[0;36mrun_action\u001b[0;34m(cmd)\u001b[0m\n\u001b[1;32m      3\u001b[0m     \u001b[0mcnt_err\u001b[0m \u001b[0;34m=\u001b[0m \u001b[0;36m0\u001b[0m\u001b[0;34m\u001b[0m\u001b[0m\n\u001b[1;32m      4\u001b[0m     \u001b[0;32mwhile\u001b[0m \u001b[0;36m1\u001b[0m\u001b[0;34m:\u001b[0m\u001b[0;34m\u001b[0m\u001b[0m\n\u001b[0;32m----> 5\u001b[0;31m         \u001b[0mtest_read\u001b[0m \u001b[0;34m=\u001b[0m \u001b[0mser\u001b[0m\u001b[0;34m.\u001b[0m\u001b[0mread\u001b[0m\u001b[0;34m(\u001b[0m\u001b[0;34m)\u001b[0m\u001b[0;34m\u001b[0m\u001b[0m\n\u001b[0m\u001b[1;32m      6\u001b[0m         \u001b[0;31m# print('test_read', test_read)\u001b[0m\u001b[0;34m\u001b[0m\u001b[0;34m\u001b[0m\u001b[0m\n\u001b[1;32m      7\u001b[0m         \u001b[0mcnt_err\u001b[0m \u001b[0;34m+=\u001b[0m \u001b[0;36m1\u001b[0m\u001b[0;34m\u001b[0m\u001b[0m\n",
      "\u001b[0;32m/usr/local/lib/python3.6/dist-packages/serial/serialposix.py\u001b[0m in \u001b[0;36mread\u001b[0;34m(self, size)\u001b[0m\n\u001b[1;32m    594\u001b[0m                     \u001b[0;31m# but reading returns nothing.\u001b[0m\u001b[0;34m\u001b[0m\u001b[0;34m\u001b[0m\u001b[0m\n\u001b[1;32m    595\u001b[0m                     raise SerialException(\n\u001b[0;32m--> 596\u001b[0;31m                         \u001b[0;34m'device reports readiness to read but returned no data '\u001b[0m\u001b[0;34m\u001b[0m\u001b[0m\n\u001b[0m\u001b[1;32m    597\u001b[0m                         '(device disconnected or multiple access on port?)')\n\u001b[1;32m    598\u001b[0m                 \u001b[0mread\u001b[0m\u001b[0;34m.\u001b[0m\u001b[0mextend\u001b[0m\u001b[0;34m(\u001b[0m\u001b[0mbuf\u001b[0m\u001b[0;34m)\u001b[0m\u001b[0;34m\u001b[0m\u001b[0m\n",
      "\u001b[0;31mSerialException\u001b[0m: device reports readiness to read but returned no data (device disconnected or multiple access on port?)"
     ]
    }
   ],
   "source": [
    "flag1 = False\n",
    "flag2 = False\n",
    "\n",
    "while not (flag1 and flag2):\n",
    "    (b, s) = getpos()\n",
    "    flag1 = False\n",
    "    flag2 = False\n",
    "    \n",
    "    if b < -b_thres:\n",
    "        wait_req()\n",
    "        run_action('turn003L')\n",
    "    elif b > b_thres:\n",
    "        wait_req()\n",
    "        run_action('turn003R')\n",
    "    else:\n",
    "        flag1 = True\n",
    "        \n",
    "    if s < -s_thres:\n",
    "        wait_req()\n",
    "        run_action('Left02move')\n",
    "    elif s > s_thres:\n",
    "        wait_req()\n",
    "        run_action('Right02move')\n",
    "    else:\n",
    "        flag2 = True"
   ]
  },
  {
   "cell_type": "code",
   "execution_count": null,
   "metadata": {},
   "outputs": [],
   "source": [
    "wait_req()\n",
    "run_action('turn001L')"
   ]
  },
  {
   "cell_type": "code",
   "execution_count": 10,
   "metadata": {},
   "outputs": [
    {
     "name": "stdout",
     "output_type": "stream",
     "text": [
      "read REQ finished!\n",
      "send action ok!\n"
     ]
    }
   ],
   "source": [
    "run_action('Forwalk05')"
   ]
  },
  {
   "cell_type": "code",
   "execution_count": null,
   "metadata": {},
   "outputs": [],
   "source": [
    "def f1L():\n",
    "    run_action('turn005L')\n",
    "    wait_req()\n",
    "    run_action('turn005L')\n",
    "    wait_req()\n",
    "    run_action('turn005L')\n",
    "    wait_req()\n",
    "    run_action('turn001L')\n",
    "    wait_req()\n",
    "    run_action('turn001L')\n",
    "    wait_req()\n",
    "    run_action('turn001L')\n",
    "    wait_req()\n",
    "    run_action('Stand')"
   ]
  },
  {
   "cell_type": "code",
   "execution_count": 5,
   "metadata": {},
   "outputs": [
    {
     "ename": "KeyboardInterrupt",
     "evalue": "",
     "output_type": "error",
     "traceback": [
      "\u001b[0;31m---------------------------------------------------------------------------\u001b[0m",
      "\u001b[0;31mKeyboardInterrupt\u001b[0m                         Traceback (most recent call last)",
      "\u001b[0;32m<ipython-input-5-be3171fe74df>\u001b[0m in \u001b[0;36m<module>\u001b[0;34m()\u001b[0m\n\u001b[0;32m----> 1\u001b[0;31m \u001b[0mrun_action\u001b[0m\u001b[0;34m(\u001b[0m\u001b[0;34m'XiaDun'\u001b[0m\u001b[0;34m)\u001b[0m\u001b[0;34m\u001b[0m\u001b[0m\n\u001b[0m",
      "\u001b[0;32m<ipython-input-2-853a2d0d7655>\u001b[0m in \u001b[0;36mrun_action\u001b[0;34m(cmd)\u001b[0m\n\u001b[1;32m      3\u001b[0m     \u001b[0mcnt_err\u001b[0m \u001b[0;34m=\u001b[0m \u001b[0;36m0\u001b[0m\u001b[0;34m\u001b[0m\u001b[0m\n\u001b[1;32m      4\u001b[0m     \u001b[0;32mwhile\u001b[0m \u001b[0;36m1\u001b[0m\u001b[0;34m:\u001b[0m\u001b[0;34m\u001b[0m\u001b[0m\n\u001b[0;32m----> 5\u001b[0;31m         \u001b[0mtest_read\u001b[0m \u001b[0;34m=\u001b[0m \u001b[0mser\u001b[0m\u001b[0;34m.\u001b[0m\u001b[0mread\u001b[0m\u001b[0;34m(\u001b[0m\u001b[0;34m)\u001b[0m\u001b[0;34m\u001b[0m\u001b[0m\n\u001b[0m\u001b[1;32m      6\u001b[0m         \u001b[0;31m# print('test_read', test_read)\u001b[0m\u001b[0;34m\u001b[0m\u001b[0;34m\u001b[0m\u001b[0m\n\u001b[1;32m      7\u001b[0m         \u001b[0mcnt_err\u001b[0m \u001b[0;34m+=\u001b[0m \u001b[0;36m1\u001b[0m\u001b[0;34m\u001b[0m\u001b[0m\n",
      "\u001b[0;32m/usr/local/lib/python3.6/dist-packages/serial/serialposix.py\u001b[0m in \u001b[0;36mread\u001b[0;34m(self, size)\u001b[0m\n\u001b[1;32m    563\u001b[0m         \u001b[0;32mwhile\u001b[0m \u001b[0mlen\u001b[0m\u001b[0;34m(\u001b[0m\u001b[0mread\u001b[0m\u001b[0;34m)\u001b[0m \u001b[0;34m<\u001b[0m \u001b[0msize\u001b[0m\u001b[0;34m:\u001b[0m\u001b[0;34m\u001b[0m\u001b[0m\n\u001b[1;32m    564\u001b[0m             \u001b[0;32mtry\u001b[0m\u001b[0;34m:\u001b[0m\u001b[0;34m\u001b[0m\u001b[0m\n\u001b[0;32m--> 565\u001b[0;31m                 \u001b[0mready\u001b[0m\u001b[0;34m,\u001b[0m \u001b[0m_\u001b[0m\u001b[0;34m,\u001b[0m \u001b[0m_\u001b[0m \u001b[0;34m=\u001b[0m \u001b[0mselect\u001b[0m\u001b[0;34m.\u001b[0m\u001b[0mselect\u001b[0m\u001b[0;34m(\u001b[0m\u001b[0;34m[\u001b[0m\u001b[0mself\u001b[0m\u001b[0;34m.\u001b[0m\u001b[0mfd\u001b[0m\u001b[0;34m,\u001b[0m \u001b[0mself\u001b[0m\u001b[0;34m.\u001b[0m\u001b[0mpipe_abort_read_r\u001b[0m\u001b[0;34m]\u001b[0m\u001b[0;34m,\u001b[0m \u001b[0;34m[\u001b[0m\u001b[0;34m]\u001b[0m\u001b[0;34m,\u001b[0m \u001b[0;34m[\u001b[0m\u001b[0;34m]\u001b[0m\u001b[0;34m,\u001b[0m \u001b[0mtimeout\u001b[0m\u001b[0;34m.\u001b[0m\u001b[0mtime_left\u001b[0m\u001b[0;34m(\u001b[0m\u001b[0;34m)\u001b[0m\u001b[0;34m)\u001b[0m\u001b[0;34m\u001b[0m\u001b[0m\n\u001b[0m\u001b[1;32m    566\u001b[0m                 \u001b[0;32mif\u001b[0m \u001b[0mself\u001b[0m\u001b[0;34m.\u001b[0m\u001b[0mpipe_abort_read_r\u001b[0m \u001b[0;32min\u001b[0m \u001b[0mready\u001b[0m\u001b[0;34m:\u001b[0m\u001b[0;34m\u001b[0m\u001b[0m\n\u001b[1;32m    567\u001b[0m                     \u001b[0mos\u001b[0m\u001b[0;34m.\u001b[0m\u001b[0mread\u001b[0m\u001b[0;34m(\u001b[0m\u001b[0mself\u001b[0m\u001b[0;34m.\u001b[0m\u001b[0mpipe_abort_read_r\u001b[0m\u001b[0;34m,\u001b[0m \u001b[0;36m1000\u001b[0m\u001b[0;34m)\u001b[0m\u001b[0;34m\u001b[0m\u001b[0m\n",
      "\u001b[0;31mKeyboardInterrupt\u001b[0m: "
     ]
    }
   ],
   "source": []
  },
  {
   "cell_type": "code",
   "execution_count": null,
   "metadata": {},
   "outputs": [],
   "source": []
  }
 ],
 "metadata": {
  "kernelspec": {
   "display_name": "Python 3",
   "language": "python",
   "name": "python3"
  },
  "language_info": {
   "codemirror_mode": {
    "name": "ipython",
    "version": 3
   },
   "file_extension": ".py",
   "mimetype": "text/x-python",
   "name": "python",
   "nbconvert_exporter": "python",
   "pygments_lexer": "ipython3",
   "version": "3.6.5"
  }
 },
 "nbformat": 4,
 "nbformat_minor": 2
}
