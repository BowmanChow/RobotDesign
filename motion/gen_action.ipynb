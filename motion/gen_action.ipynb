{
 "cells": [
  {
   "cell_type": "code",
   "execution_count": 1,
   "metadata": {},
   "outputs": [],
   "source": [
    "import serial\n",
    "import binascii"
   ]
  },
  {
   "cell_type": "code",
   "execution_count": 2,
   "metadata": {},
   "outputs": [],
   "source": [
    "PACKAGE_HEAD = [0xFF, 0xFF]\n",
    "RES_PACKAGE_HEAD = [0xFF, 0xFF]"
   ]
  },
  {
   "cell_type": "code",
   "execution_count": 3,
   "metadata": {},
   "outputs": [],
   "source": [
    "def assemble_string(data):\n",
    "    byte_param = []\n",
    "    data_list = list(data)\n",
    "    funname_data = list(map(lambda x: ord(x), data_list))\n",
    "    return funname_data"
   ]
  },
  {
   "cell_type": "code",
   "execution_count": 4,
   "metadata": {},
   "outputs": [],
   "source": [
    "def crc_calculate(package):\n",
    "    crc = 0\n",
    "    for hex_data in package:\n",
    "\n",
    "        b2 = hex_data.to_bytes(1, byteorder='little')\n",
    "        crc = binascii.crc_hqx(b2, crc)\n",
    "\n",
    "    return [(crc >> 8), (crc & 255)]    # 校验位两位"
   ]
  },
  {
   "cell_type": "code",
   "execution_count": 5,
   "metadata": {},
   "outputs": [],
   "source": [
    "def action_request(action_name):\n",
    "    #global action_list \n",
    "    #if len(action_list) != 0:\n",
    "    #    action_name = action_list.pop(0)\n",
    "    #else:\n",
    "    #    action_name = 'XiaDun'\n",
    "\n",
    "    # action_name = 'music3'\n",
    "    # print('REQUEST!')\n",
    "    pac_data = assemble_string(action_name)\n",
    "    print('action_name', action_name)\n",
    "    print('pac_data', pac_data)\n",
    "    total_len = 1 + 2 + len(pac_data) + 2\n",
    "\n",
    "    pac_param_len = [len(pac_data) + 1]\n",
    "    pac_param_type = [0x03]\n",
    "    pac_param = pac_param_len + pac_param_type + pac_data\n",
    "    print('pac_param_len', pac_param_len)\n",
    "    print('pac_param_type', pac_param_type)\n",
    "    print('pac_data', pac_data)\n",
    "    print('pac_param', pac_param)\n",
    "\n",
    "    pac_len = [( total_len >> 8), (total_len & 255)]\n",
    "    pac_param_count = [0x01]\n",
    "\n",
    "    pac_data = RES_PACKAGE_HEAD + pac_len + pac_param_count + pac_param\n",
    "    pac_check_sum = crc_calculate(pac_data)\n",
    "    print('pac_check_sum', pac_check_sum)\n",
    "    res = pac_data + pac_check_sum\n",
    "    print('res', res)\n",
    "    return res"
   ]
  },
  {
   "cell_type": "code",
   "execution_count": 20,
   "metadata": {},
   "outputs": [],
   "source": [
    "def get_serial(a):\n",
    "    s_data = []\n",
    "    for i in range(len(a)):\n",
    "        s_data.append(hex(a[i]))\n",
    "    for i in range(len(s_data)):\n",
    "        if s_data[i][-2] == 'x':\n",
    "            print('0'+s_data[i][-2]+'0'+s_data[i][-1], end=', ')\n",
    "        else:\n",
    "            print('0x'+s_data[i][-2:], end=', ')"
   ]
  },
  {
   "cell_type": "code",
   "execution_count": 21,
   "metadata": {},
   "outputs": [
    {
     "name": "stdout",
     "output_type": "stream",
     "text": [
      "action_name Stand\n",
      "pac_data [83, 116, 97, 110, 100]\n",
      "pac_param_len [6]\n",
      "pac_param_type [3]\n",
      "pac_data [83, 116, 97, 110, 100]\n",
      "pac_param [6, 3, 83, 116, 97, 110, 100]\n",
      "pac_check_sum [152, 79]\n",
      "res [255, 255, 0, 10, 1, 6, 3, 83, 116, 97, 110, 100, 152, 79]\n",
      "0xff, 0xff, 0x00, 0x0a, 0x01, 0x06, 0x03, 0x53, 0x74, 0x61, 0x6e, 0x64, 0x98, 0x4f, "
     ]
    }
   ],
   "source": [
    "res = action_request('Stand') #在这里修改动作组名称，名称需要和Actionlib.lua里的函数名一样，才能调用成功\n",
    "get_serial(res) \n",
    "#运行完之后，把这个框输出的最后一行0xff开头的十六进制数据复制到robot_action.ipynb中，仿照使用“Stand”和“XiaDun”的方式使用即可"
   ]
  },
  {
   "cell_type": "code",
   "execution_count": null,
   "metadata": {},
   "outputs": [],
   "source": []
  }
 ],
 "metadata": {
  "kernelspec": {
   "display_name": "Python 3",
   "language": "python",
   "name": "python3"
  },
  "language_info": {
   "codemirror_mode": {
    "name": "ipython",
    "version": 3
   },
   "file_extension": ".py",
   "mimetype": "text/x-python",
   "name": "python",
   "nbconvert_exporter": "python",
   "pygments_lexer": "ipython3",
   "version": "3.7.6"
  }
 },
 "nbformat": 4,
 "nbformat_minor": 4
}
